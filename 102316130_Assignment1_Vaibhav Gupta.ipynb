{
  "nbformat": 4,
  "nbformat_minor": 0,
  "metadata": {
    "colab": {
      "provenance": []
    },
    "kernelspec": {
      "name": "python3",
      "display_name": "Python 3"
    },
    "language_info": {
      "name": "python"
    }
  },
  "cells": [
    {
      "cell_type": "markdown",
      "source": [
        "Assignment 1.1"
      ],
      "metadata": {
        "id": "W1O7ZCrV5J0x"
      }
    },
    {
      "cell_type": "code",
      "execution_count": 2,
      "metadata": {
        "colab": {
          "base_uri": "https://localhost:8080/"
        },
        "id": "Sr_0NmoZ47Vw",
        "outputId": "73f2e175-9211-4ee1-b1ba-8cb058c09333"
      },
      "outputs": [
        {
          "output_type": "stream",
          "name": "stdout",
          "text": [
            "Vaibhav Gupta\n",
            "Vaibhav Gupta\n",
            "Vaibhav Gupta\n"
          ]
        }
      ],
      "source": [
        "for i in range(3):\n",
        "    print(\"Vaibhav Gupta\")\n"
      ]
    },
    {
      "cell_type": "markdown",
      "source": [
        "Assingment 2.1: WAP to add three numbers and print the result."
      ],
      "metadata": {
        "id": "vlBp6_kY5U94"
      }
    },
    {
      "cell_type": "code",
      "source": [
        "a=15;\n",
        "b=28;\n",
        "c=55;\n",
        "d= a+b+c;\n",
        "print(f\"{a}+{b}+{c} --> {d}\")"
      ],
      "metadata": {
        "colab": {
          "base_uri": "https://localhost:8080/"
        },
        "id": "sMY8-Iku5R4-",
        "outputId": "318c5132-6839-4cea-c98f-9d0d26b751a6"
      },
      "execution_count": 3,
      "outputs": [
        {
          "output_type": "stream",
          "name": "stdout",
          "text": [
            "15+28+55 --> 98\n"
          ]
        }
      ]
    },
    {
      "cell_type": "markdown",
      "source": [
        "Assingment 2.2: WAP to concatinate three strings and print the result.\n",
        "\n"
      ],
      "metadata": {
        "id": "4r9s_Z7m6Q32"
      }
    },
    {
      "cell_type": "code",
      "source": [
        "a= \"Hello \";\n",
        "b=\"I am\";\n",
        "c= \" Vaibhav\";\n",
        "d=a+b+c;\n",
        "print(f\"{a}+{b}+{c} --> {d}\")"
      ],
      "metadata": {
        "colab": {
          "base_uri": "https://localhost:8080/"
        },
        "id": "J_iq5iGh6T5I",
        "outputId": "e36cd7fd-f826-4b35-d7bb-c7ce35b666dc"
      },
      "execution_count": 5,
      "outputs": [
        {
          "output_type": "stream",
          "name": "stdout",
          "text": [
            "Hello +I am+ Vaibhav --> Hello I am Vaibhav\n"
          ]
        }
      ]
    },
    {
      "cell_type": "markdown",
      "source": [
        "Assingment 4.1: WAP to print the table of 7, 9.\n",
        "\n"
      ],
      "metadata": {
        "id": "9Zf5QODS6heF"
      }
    },
    {
      "cell_type": "code",
      "source": [
        "for i in range(11):\n",
        "    print(f\"7 X {i} = {7*i}\")\n"
      ],
      "metadata": {
        "colab": {
          "base_uri": "https://localhost:8080/"
        },
        "id": "f_SfY21B6jb-",
        "outputId": "f41a95cf-0be6-4936-ace5-2ddd5aa0d619"
      },
      "execution_count": null,
      "outputs": [
        {
          "output_type": "stream",
          "name": "stdout",
          "text": [
            "7 X 0 = 0\n",
            "7 X 1 = 7\n",
            "7 X 2 = 14\n",
            "7 X 3 = 21\n",
            "7 X 4 = 28\n",
            "7 X 5 = 35\n",
            "7 X 6 = 42\n",
            "7 X 7 = 49\n",
            "7 X 8 = 56\n",
            "7 X 9 = 63\n",
            "7 X 10 = 70\n"
          ]
        }
      ]
    },
    {
      "cell_type": "code",
      "source": [
        "for i in range(11):\n",
        "    print(f\"9 X {i} = {9*i}\")\n"
      ],
      "metadata": {
        "colab": {
          "base_uri": "https://localhost:8080/"
        },
        "id": "qtzumGlm6tPU",
        "outputId": "e5833f9e-1766-4091-c60b-4413a1ba27f6"
      },
      "execution_count": null,
      "outputs": [
        {
          "output_type": "stream",
          "name": "stdout",
          "text": [
            "9 X 0 = 0\n",
            "9 X 1 = 9\n",
            "9 X 2 = 18\n",
            "9 X 3 = 27\n",
            "9 X 4 = 36\n",
            "9 X 5 = 45\n",
            "9 X 6 = 54\n",
            "9 X 7 = 63\n",
            "9 X 8 = 72\n",
            "9 X 9 = 81\n",
            "9 X 10 = 90\n"
          ]
        }
      ]
    },
    {
      "cell_type": "markdown",
      "source": [
        "Assingment 4.2: WAP to print the table of n and n is given by user.\n",
        "\n"
      ],
      "metadata": {
        "id": "pcQ84so56pQW"
      }
    },
    {
      "cell_type": "code",
      "source": [
        "n = int(input(\"Enter the number\"))\n",
        "for i in range(11):\n",
        "    print(f\"{n} X {i} = {n*i}\")\n"
      ],
      "metadata": {
        "colab": {
          "base_uri": "https://localhost:8080/"
        },
        "id": "iZ5lpU0I7UsU",
        "outputId": "279d417a-efcc-45ed-ad01-3cf054449fac"
      },
      "execution_count": 6,
      "outputs": [
        {
          "output_type": "stream",
          "name": "stdout",
          "text": [
            "Enter the number99\n",
            "99 X 0 = 0\n",
            "99 X 1 = 99\n",
            "99 X 2 = 198\n",
            "99 X 3 = 297\n",
            "99 X 4 = 396\n",
            "99 X 5 = 495\n",
            "99 X 6 = 594\n",
            "99 X 7 = 693\n",
            "99 X 8 = 792\n",
            "99 X 9 = 891\n",
            "99 X 10 = 990\n"
          ]
        }
      ]
    },
    {
      "cell_type": "markdown",
      "source": [
        "Assingment 4.3: WAP to add all the numbers from 1 to n and n is given by user.\n",
        "\n"
      ],
      "metadata": {
        "id": "dZIeDYQg7lrU"
      }
    },
    {
      "cell_type": "code",
      "source": [
        "n = int(input(\"Enter the number\"))\n",
        "result = n*(n+1)/2\n",
        "print(result)\n"
      ],
      "metadata": {
        "colab": {
          "base_uri": "https://localhost:8080/"
        },
        "id": "UGQDN-4m7qpb",
        "outputId": "6ac42e89-7c1b-43dc-827f-064651b70bbe"
      },
      "execution_count": 7,
      "outputs": [
        {
          "output_type": "stream",
          "name": "stdout",
          "text": [
            "Enter the number55\n",
            "1540.0\n"
          ]
        }
      ]
    },
    {
      "cell_type": "markdown",
      "source": [
        "Assingment 5.1: WAP to find max amoung three numbers and input from user. [Try max() function]\n"
      ],
      "metadata": {
        "id": "Vl_tfV8h7vx0"
      }
    },
    {
      "cell_type": "code",
      "source": [
        "list1 = []\n",
        "for i in range(3):\n",
        "    list1.append(int(input(f\"Enter the {i}th number\")))\n",
        "print(list1)\n",
        "print(max(list1))\n"
      ],
      "metadata": {
        "colab": {
          "base_uri": "https://localhost:8080/"
        },
        "id": "OWsspNlK713A",
        "outputId": "23a03395-c84b-4e93-9a56-c8ed3a21dbc1"
      },
      "execution_count": null,
      "outputs": [
        {
          "output_type": "stream",
          "name": "stdout",
          "text": [
            "Enter the 0th number1\n",
            "Enter the 1th number5\n",
            "Enter the 2th number8\n",
            "[1, 5, 8]\n",
            "8\n"
          ]
        }
      ]
    },
    {
      "cell_type": "markdown",
      "source": [
        "Assingment 5.2: WAP to add all numbers divisible by 7 and 9 from 1 to n and n is given by the user.\n",
        "\n"
      ],
      "metadata": {
        "id": "gIE26Sbo7_Y0"
      }
    },
    {
      "cell_type": "code",
      "source": [
        "n = int(input(\"Enter a No: \"))\n",
        "sum=0\n",
        "for i in range(n+1):\n",
        "    if(i%7==0 or i%9==0):\n",
        "        sum+=i\n",
        "print(sum)\n"
      ],
      "metadata": {
        "colab": {
          "base_uri": "https://localhost:8080/"
        },
        "id": "pnHlwgYJ8AbP",
        "outputId": "3043326f-04ce-4aa0-a250-225a7aa7e3f4"
      },
      "execution_count": 8,
      "outputs": [
        {
          "output_type": "stream",
          "name": "stdout",
          "text": [
            "Enter a No: 21\n",
            "69\n"
          ]
        }
      ]
    },
    {
      "cell_type": "markdown",
      "source": [
        "Assingment 5.3: WAP to add all prime numbers from 1 to n and n is given by the user.\n",
        "\n"
      ],
      "metadata": {
        "id": "wfNlFbAt8Fqi"
      }
    },
    {
      "cell_type": "code",
      "source": [
        "n = int(input(\"Enter a No: \"))\n",
        "sum =0\n",
        "for i in range(2, n+1):\n",
        "    flag =0\n",
        "    for div in range(2, int(i**0.5) + 1):\n",
        "    \tif  i%div == 0:\n",
        "    \t\tflag =1\n",
        "    \t\tbreak\n",
        "    if flag ==0:\n",
        "    \tsum+=i\n",
        "print(sum)"
      ],
      "metadata": {
        "colab": {
          "base_uri": "https://localhost:8080/"
        },
        "id": "NooEDnLs8Hqh",
        "outputId": "43e3805c-49fc-4ee3-96d4-8f2dede95c4e"
      },
      "execution_count": 9,
      "outputs": [
        {
          "output_type": "stream",
          "name": "stdout",
          "text": [
            "Enter a No: 25\n",
            "100\n"
          ]
        }
      ]
    },
    {
      "cell_type": "markdown",
      "source": [
        "Assingment 6.1: WAP using function that add all odd numbers from 1 to n, n is given by the user.\n",
        "\n"
      ],
      "metadata": {
        "id": "kk6k8Qn_8LTe"
      }
    },
    {
      "cell_type": "code",
      "source": [
        "def oddAdder(n):\n",
        "    sum=0\n",
        "    for i in range(n+1):\n",
        "        if(i%2!=0):\n",
        "            sum+=i\n",
        "    return sum\n",
        "result = oddAdder(5)\n",
        "print(result)"
      ],
      "metadata": {
        "colab": {
          "base_uri": "https://localhost:8080/"
        },
        "id": "QMIPrWWZ8OJ3",
        "outputId": "0a5447d8-6750-4c16-fa7b-73c4d9e45989"
      },
      "execution_count": null,
      "outputs": [
        {
          "output_type": "stream",
          "name": "stdout",
          "text": [
            "9\n"
          ]
        }
      ]
    },
    {
      "cell_type": "markdown",
      "source": [
        "Assingment 6.2: WAP using function that add all prime numbers from 1 to n, n given by the user.\n",
        "\n"
      ],
      "metadata": {
        "id": "as_Fsvp58Rgu"
      }
    },
    {
      "cell_type": "code",
      "source": [
        "def oddAdder(n):\n",
        "    sum=0\n",
        "    for i in range(2, n+1):\n",
        "        flag=0\n",
        "        for div in range(2, int(i**0.5)+1):\n",
        "            if(i%div==0):\n",
        "                flag=1\n",
        "                break\n",
        "        if(flag==0):\n",
        "            sum+=i\n",
        "    return sum\n",
        "result = oddAdder(5)\n",
        "print(result)"
      ],
      "metadata": {
        "colab": {
          "base_uri": "https://localhost:8080/"
        },
        "id": "9BpCDOr-8Tnx",
        "outputId": "b17f813b-1c6f-41cc-bb40-c7639c76d390"
      },
      "execution_count": null,
      "outputs": [
        {
          "output_type": "stream",
          "name": "stdout",
          "text": [
            "10\n"
          ]
        }
      ]
    }
  ]
}
