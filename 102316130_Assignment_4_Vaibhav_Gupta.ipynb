{
  "nbformat": 4,
  "nbformat_minor": 0,
  "metadata": {
    "colab": {
      "provenance": []
    },
    "kernelspec": {
      "name": "python3",
      "display_name": "Python 3"
    },
    "language_info": {
      "name": "python"
    }
  },
  "cells": [
    {
      "cell_type": "markdown",
      "source": [
        "**Class Work**"
      ],
      "metadata": {
        "id": "WkwF3KNtCwxy"
      }
    },
    {
      "cell_type": "markdown",
      "source": [
        "**Assignment**"
      ],
      "metadata": {
        "id": "85YLF1b8FY63"
      }
    },
    {
      "cell_type": "markdown",
      "source": [
        "**Q.1** Write a program to create a NumPy 1D-array with 5 elements and perform basic operations like:\n",
        "\n",
        "a) Addition of 2 in all the element\n",
        "\n",
        "b) Multiply 3 with all the elements\n",
        "\n",
        "c) Divide every element by 2"
      ],
      "metadata": {
        "id": "oiuCHtW0Fb3F"
      }
    },
    {
      "cell_type": "code",
      "source": [
        "import numpy as np\n",
        "\n",
        "arr = np.arange(1, 6)\n",
        "print(\"Original Array:\", arr)\n",
        "\n",
        "print(\"Addition (+2):\", arr + 2)\n",
        "print(\"Multiplication (*3):\", arr * 3)\n",
        "print(\"Division (/2):\", arr / 2)\n",
        "\n",
        "print(\"\\nArray Properties:\")\n",
        "print(\"Type:\", type(arr))\n",
        "print(\"Data Type:\", arr.dtype)\n",
        "print(\"Dimensions:\", arr.ndim)\n",
        "print(\"Shape:\", arr.shape)\n",
        "\n",
        "print(\"\\nSpecial Arrays:\")\n",
        "print(\"Zeros:\\n\", np.zeros((2, 3)))\n",
        "print(\"Ones:\\n\", np.ones((2, 3)))\n",
        "print(\"Empty:\\n\", np.empty((2, 3)))"
      ],
      "metadata": {
        "colab": {
          "base_uri": "https://localhost:8080/"
        },
        "id": "9CuNyUDCESP2",
        "outputId": "f240f464-7baa-4eea-85de-a745ed4bcb6a"
      },
      "execution_count": 4,
      "outputs": [
        {
          "output_type": "stream",
          "name": "stdout",
          "text": [
            "Original Array: [1 2 3 4 5]\n",
            "Addition (+2): [3 4 5 6 7]\n",
            "Multiplication (*3): [ 3  6  9 12 15]\n",
            "Division (/2): [0.5 1.  1.5 2.  2.5]\n",
            "\n",
            "Array Properties:\n",
            "Type: <class 'numpy.ndarray'>\n",
            "Data Type: int64\n",
            "Dimensions: 1\n",
            "Shape: (5,)\n",
            "\n",
            "Special Arrays:\n",
            "Zeros:\n",
            " [[0. 0. 0.]\n",
            " [0. 0. 0.]]\n",
            "Ones:\n",
            " [[1. 1. 1.]\n",
            " [1. 1. 1.]]\n",
            "Empty:\n",
            " [[1. 1. 1.]\n",
            " [1. 1. 1.]]\n"
          ]
        }
      ]
    },
    {
      "cell_type": "markdown",
      "source": [
        "**Q.2** Questions on Basic NumPy Array:\n",
        "\n",
        "**a)** Reverse the NumPy array: arr = np.array([1, 2, 3, 6, 4, 5])"
      ],
      "metadata": {
        "id": "quWEvknxF5VH"
      }
    },
    {
      "cell_type": "code",
      "source": [
        "arr = np.array([1, 2, 3, 6, 4, 5])\n",
        "print(\"Reversed Array:\", arr[::-1])"
      ],
      "metadata": {
        "colab": {
          "base_uri": "https://localhost:8080/"
        },
        "id": "1_tPwxNgF_l0",
        "outputId": "9563b8f6-2138-4abd-db4d-65b5b6029606"
      },
      "execution_count": 5,
      "outputs": [
        {
          "output_type": "stream",
          "name": "stdout",
          "text": [
            "Reversed Array: [5 4 6 3 2 1]\n"
          ]
        }
      ]
    },
    {
      "cell_type": "markdown",
      "source": [
        "**Q.2**\n",
        "\n",
        "**b)** Find the most frequent value and their indice(s) in the following arrays:\n",
        "i. x = np.array([1,2,3,4,5,1,2,1,1,1])\n",
        "ii. y = np.array([1, 1, 1, 2, 3, 4, 2, 4, 3, 3, ])"
      ],
      "metadata": {
        "id": "XUBdltL3GAMP"
      }
    },
    {
      "cell_type": "code",
      "source": [
        "x = np.array([1,2,3,4,5,1,2,1,1,1])\n",
        "y = np.array([1, 1, 1, 2, 3, 4, 2, 4, 3, 3])\n",
        "\n",
        "def most_frequent(arr):\n",
        "    elems, counts = np.unique(arr, return_counts=True)\n",
        "    most_common = elems[np.argmax(counts)]\n",
        "    indices = np.where(arr == most_common)[0]\n",
        "    return most_common, indices\n",
        "\n",
        "most_common_x, indices_x = most_frequent(x)\n",
        "print(f\"Most Frequent in x: {most_common_x}, Indices: {indices_x}\")\n",
        "\n",
        "most_common_y, indices_y = most_frequent(y)\n",
        "print(f\"Most Frequent in y: {most_common_y}, Indices: {indices_y}\")"
      ],
      "metadata": {
        "colab": {
          "base_uri": "https://localhost:8080/"
        },
        "id": "0Tvdbw4HGM5Q",
        "outputId": "a13b1bd2-33b3-40ea-c48d-b2c7aeb4e3c1"
      },
      "execution_count": 6,
      "outputs": [
        {
          "output_type": "stream",
          "name": "stdout",
          "text": [
            "Most Frequent in x: 1, Indices: [0 5 7 8 9]\n",
            "Most Frequent in y: 1, Indices: [0 1 2]\n"
          ]
        }
      ]
    },
    {
      "cell_type": "markdown",
      "source": [
        "**Q.3** For the given 2-D array arr=np.array([10, 20, 30], [40, 50, 60], [70, 80, 90]), access elements using row and column indices as follows:\n",
        "\n",
        "a) Access 1st row, 2nd column\n",
        "\n",
        "b) Access 3rd row, 1st column"
      ],
      "metadata": {
        "id": "LP9hqU0Nfb__"
      }
    },
    {
      "cell_type": "code",
      "source": [
        "arr = np.array([[10, 20, 30], [40, 50, 60], [70, 80, 90]])\n",
        "\n",
        "print(\"1st row, 2nd column:\", arr[0, 1])\n",
        "print(\"3rd row, 1st column:\", arr[2, 0])"
      ],
      "metadata": {
        "colab": {
          "base_uri": "https://localhost:8080/"
        },
        "id": "MCqX_HLefbcA",
        "outputId": "63e8225a-17f1-471e-8d5c-94014b43458c"
      },
      "execution_count": 7,
      "outputs": [
        {
          "output_type": "stream",
          "name": "stdout",
          "text": [
            "1st row, 2nd column: 20\n",
            "3rd row, 1st column: 70\n"
          ]
        }
      ]
    },
    {
      "cell_type": "markdown",
      "source": [
        "**Q.4** Write program to create an 1-D NumPy array named <<\\Your Name>> with evenly spaced 25 numbers from 10 to 100 using linspace().\n",
        "\n",
        "Print the dimensions of the array, shape, total elements, the data type of each element and total number of bytes consumed by the array.\n",
        "\n",
        " Find the transpose of this array using reshape() attribute.\n",
        "\n",
        "Can we do the same with T attribute?"
      ],
      "metadata": {
        "id": "yYDcthXGg2cB"
      }
    },
    {
      "cell_type": "code",
      "source": [
        "import numpy as np\n",
        "VaibhavGupta = np.linspace(10, 100, 25)\n",
        "\n",
        "print(\"Array:\", VaibhavGupta)\n",
        "print(\"Dimensions:\", VaibhavGupta.ndim)\n",
        "print(\"Shape:\", VaibhavGupta.shape)\n",
        "print(\"Total elements:\", VaibhavGupta.size)\n",
        "print(\"Data type:\", VaibhavGupta.dtype)\n",
        "print(\"Bytes per element:\", VaibhavGupta.itemsize)\n",
        "print(\"Total bytes:\", VaibhavGupta.nbytes)\n",
        "\n",
        "reshaped_array = VaibhavGupta.reshape(25, 1)\n",
        "print(\"Reshaped Array:\\n\", reshaped_array)\n",
        "print(\"Transpose using reshape:\\n\", reshaped_array.T)\n",
        "\n",
        "# Transpose using .T is ineffective as it's a 1D array\n",
        "print(\"Transpose using .T:\", VaibhavGupta.T)"
      ],
      "metadata": {
        "colab": {
          "base_uri": "https://localhost:8080/"
        },
        "id": "wDoShEfifFKz",
        "outputId": "e2a35aca-6e28-4c07-b144-754e8754f30b"
      },
      "execution_count": 2,
      "outputs": [
        {
          "output_type": "stream",
          "name": "stdout",
          "text": [
            "Array: [ 10.    13.75  17.5   21.25  25.    28.75  32.5   36.25  40.    43.75\n",
            "  47.5   51.25  55.    58.75  62.5   66.25  70.    73.75  77.5   81.25\n",
            "  85.    88.75  92.5   96.25 100.  ]\n",
            "Dimensions: 1\n",
            "Shape: (25,)\n",
            "Total elements: 25\n",
            "Data type: float64\n",
            "Bytes per element: 8\n",
            "Total bytes: 200\n",
            "Reshaped Array:\n",
            " [[ 10.  ]\n",
            " [ 13.75]\n",
            " [ 17.5 ]\n",
            " [ 21.25]\n",
            " [ 25.  ]\n",
            " [ 28.75]\n",
            " [ 32.5 ]\n",
            " [ 36.25]\n",
            " [ 40.  ]\n",
            " [ 43.75]\n",
            " [ 47.5 ]\n",
            " [ 51.25]\n",
            " [ 55.  ]\n",
            " [ 58.75]\n",
            " [ 62.5 ]\n",
            " [ 66.25]\n",
            " [ 70.  ]\n",
            " [ 73.75]\n",
            " [ 77.5 ]\n",
            " [ 81.25]\n",
            " [ 85.  ]\n",
            " [ 88.75]\n",
            " [ 92.5 ]\n",
            " [ 96.25]\n",
            " [100.  ]]\n",
            "Transpose using reshape:\n",
            " [[ 10.    13.75  17.5   21.25  25.    28.75  32.5   36.25  40.    43.75\n",
            "   47.5   51.25  55.    58.75  62.5   66.25  70.    73.75  77.5   81.25\n",
            "   85.    88.75  92.5   96.25 100.  ]]\n",
            "Transpose using .T: [ 10.    13.75  17.5   21.25  25.    28.75  32.5   36.25  40.    43.75\n",
            "  47.5   51.25  55.    58.75  62.5   66.25  70.    73.75  77.5   81.25\n",
            "  85.    88.75  92.5   96.25 100.  ]\n"
          ]
        }
      ]
    },
    {
      "cell_type": "markdown",
      "source": [
        "**Q5.** Create a 2-D Array of three rows and four columns, named ucs420_<\\your_name>> with following values – 10, 20, 30, 40, 50, 60, 70, 80, 90, 15, 20, 35. Compute the mean, median, max, min, unique elements.\n",
        "\n",
        " Reshape the array to four rows and three columns and name it as reshaped_ ucs420_<\\your_name>>. Resize the array to two rows and three columns and name it as resized_ ucs420_<\\your_name>>."
      ],
      "metadata": {
        "id": "S8l1TIw-rsrk"
      }
    },
    {
      "cell_type": "code",
      "source": [
        "import numpy as np\n",
        "\n",
        "ucs420_VaibhavGupta = np.array([10, 20, 30, 40, 50, 60, 70, 80, 90, 15, 20, 35]).reshape(3,4)\n",
        "\n",
        "print(\"Original Array:\\n\", ucs420_VaibhavGupta)\n",
        "print(\"Mean:\", np.mean(ucs420_VaibhavGupta))\n",
        "print(\"Median:\", np.median(ucs420_VaibhavGupta))\n",
        "print(\"Max:\", np.max(ucs420_VaibhavGupta))\n",
        "print(\"Min:\", np.min(ucs420_VaibhavGupta))\n",
        "\n",
        "unique_elements, counts = np.unique(ucs420_VaibhavGupta, return_counts=True)\n",
        "print(\"Unique Elements:\", unique_elements)\n",
        "print(\"Their Count:\", counts)\n",
        "\n",
        "reshaped_ucs420_VaibhavGupta = ucs420_VaibhavGupta.reshape(4,3)\n",
        "print(\"Reshaped (4x3):\\n\", reshaped_ucs420_VaibhavGupta)\n",
        "\n",
        "resized_ucs420_VaibhavGupta = ucs420_VaibhavGupta.copy()\n",
        "resized_ucs420_VaibhavGupta.resize(2,3)\n",
        "print(\"Resized (2x3):\\n\", resized_ucs420_VaibhavGupta)"
      ],
      "metadata": {
        "colab": {
          "base_uri": "https://localhost:8080/"
        },
        "id": "LddYxfX8rzbI",
        "outputId": "da786fd9-70cc-4880-8dbd-65cdad6c1dc6"
      },
      "execution_count": 3,
      "outputs": [
        {
          "output_type": "stream",
          "name": "stdout",
          "text": [
            "Original Array:\n",
            " [[10 20 30 40]\n",
            " [50 60 70 80]\n",
            " [90 15 20 35]]\n",
            "Mean: 43.333333333333336\n",
            "Median: 37.5\n",
            "Max: 90\n",
            "Min: 10\n",
            "Unique Elements: [10 15 20 30 35 40 50 60 70 80 90]\n",
            "Their Count: [1 1 2 1 1 1 1 1 1 1 1]\n",
            "Reshaped (4x3):\n",
            " [[10 20 30]\n",
            " [40 50 60]\n",
            " [70 80 90]\n",
            " [15 20 35]]\n",
            "Resized (2x3):\n",
            " [[10 20 30]\n",
            " [40 50 60]]\n"
          ]
        }
      ]
    }
  ]
}